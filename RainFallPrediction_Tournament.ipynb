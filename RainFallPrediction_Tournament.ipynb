{
 "cells": [
  {
   "cell_type": "code",
   "execution_count": 1,
   "id": "60dd0494",
   "metadata": {
    "_cell_guid": "b1076dfc-b9ad-4769-8c92-a6c4dae69d19",
    "_uuid": "8f2839f25d086af736a60e9eeb907d3b93b6e0e5",
    "execution": {
     "iopub.execute_input": "2025-03-13T14:54:52.512231Z",
     "iopub.status.busy": "2025-03-13T14:54:52.511866Z",
     "iopub.status.idle": "2025-03-13T14:54:55.342387Z",
     "shell.execute_reply": "2025-03-13T14:54:55.341195Z"
    },
    "papermill": {
     "duration": 2.839304,
     "end_time": "2025-03-13T14:54:55.344188",
     "exception": false,
     "start_time": "2025-03-13T14:54:52.504884",
     "status": "completed"
    },
    "tags": []
   },
   "outputs": [
    {
     "name": "stdout",
     "output_type": "stream",
     "text": [
      "/kaggle/input/playground-series-s5e3/sample_submission.csv\n",
      "/kaggle/input/playground-series-s5e3/train.csv\n",
      "/kaggle/input/playground-series-s5e3/test.csv\n"
     ]
    }
   ],
   "source": [
    "# This Python 3 environment comes with many helpful analytics libraries installed\n",
    "# It is defined by the kaggle/python Docker image: https://github.com/kaggle/docker-python\n",
    "# For example, here's several helpful packages to load\n",
    "\n",
    "import numpy as np # linear algebra\n",
    "import pandas as pd # data processing, CSV file I/O (e.g. pd.read_csv)\n",
    "import matplotlib.pyplot as plt\n",
    "import seaborn as sns\n",
    "\n",
    "# Input data files are available in the read-only \"../input/\" directory\n",
    "# For example, running this (by clicking run or pressing Shift+Enter) will list all files under the input directory\n",
    "\n",
    "import os\n",
    "for dirname, _, filenames in os.walk('/kaggle/input'):\n",
    "    for filename in filenames:\n",
    "        print(os.path.join(dirname, filename))\n",
    "\n",
    "# You can write up to 20GB to the current directory (/kaggle/working/) that gets preserved as output when you create a version using \"Save & Run All\" \n",
    "# You can also write temporary files to /kaggle/temp/, but they won't be saved outside of the current session"
   ]
  },
  {
   "cell_type": "markdown",
   "id": "b7a68dbb",
   "metadata": {
    "papermill": {
     "duration": 0.004825,
     "end_time": "2025-03-13T14:54:55.354637",
     "exception": false,
     "start_time": "2025-03-13T14:54:55.349812",
     "status": "completed"
    },
    "tags": []
   },
   "source": [
    "# To do:\n",
    "1) Split into test and training samples - Done!\n",
    "2) Check classes are balanced - They are not, BALANCE THEM \n",
    "3) Use heat map to reduce correlations - Done!\n",
    "4) Use boosted decision tree - Done!\n",
    "5) Function to optimize hyperparameters - Done!\n",
    "6) Try LogisticRegression if variables meet criteria\n",
    "7) Try neural network\n",
    "8) Create pairplots to check variable relationships - Done!\n",
    "9) Use Principal Components Analysis to reduce correlations\n"
   ]
  },
  {
   "cell_type": "code",
   "execution_count": 2,
   "id": "4f4975c5",
   "metadata": {
    "execution": {
     "iopub.execute_input": "2025-03-13T14:54:55.366720Z",
     "iopub.status.busy": "2025-03-13T14:54:55.366126Z",
     "iopub.status.idle": "2025-03-13T14:54:55.410001Z",
     "shell.execute_reply": "2025-03-13T14:54:55.408658Z"
    },
    "papermill": {
     "duration": 0.05185,
     "end_time": "2025-03-13T14:54:55.411959",
     "exception": false,
     "start_time": "2025-03-13T14:54:55.360109",
     "status": "completed"
    },
    "tags": []
   },
   "outputs": [],
   "source": [
    "df = pd.read_csv(\"/kaggle/input/playground-series-s5e3/train.csv\")\n",
    "df.fillna(0,inplace=True)\n",
    "X = df.drop(columns='rainfall')\n",
    "y = df['rainfall']\n",
    "\n",
    "X_final = pd.read_csv(\"/kaggle/input/playground-series-s5e3/test.csv\")\n",
    "X_final.fillna(0,inplace=True)\n",
    "X_final_id = X_final[['id']]"
   ]
  },
  {
   "cell_type": "code",
   "execution_count": 3,
   "id": "1e84169e",
   "metadata": {
    "execution": {
     "iopub.execute_input": "2025-03-13T14:54:55.423724Z",
     "iopub.status.busy": "2025-03-13T14:54:55.423267Z",
     "iopub.status.idle": "2025-03-13T14:54:55.438608Z",
     "shell.execute_reply": "2025-03-13T14:54:55.437518Z"
    },
    "papermill": {
     "duration": 0.023086,
     "end_time": "2025-03-13T14:54:55.440402",
     "exception": false,
     "start_time": "2025-03-13T14:54:55.417316",
     "status": "completed"
    },
    "tags": []
   },
   "outputs": [
    {
     "name": "stdout",
     "output_type": "stream",
     "text": [
      "   id  day  pressure  maxtemp  temparature  mintemp  dewpoint  humidity  \\\n",
      "0   0    1    1017.4     21.2         20.6     19.9      19.4      87.0   \n",
      "1   1    2    1019.5     16.2         16.9     15.8      15.4      95.0   \n",
      "2   2    3    1024.1     19.4         16.1     14.6       9.3      75.0   \n",
      "3   3    4    1013.4     18.1         17.8     16.9      16.8      95.0   \n",
      "4   4    5    1021.8     21.3         18.4     15.2       9.6      52.0   \n",
      "\n",
      "   cloud  sunshine  winddirection  windspeed  rainfall  \n",
      "0   88.0       1.1           60.0       17.2         1  \n",
      "1   91.0       0.0           50.0       21.9         1  \n",
      "2   47.0       8.3           70.0       18.1         1  \n",
      "3   95.0       0.0           60.0       35.6         1  \n",
      "4   45.0       3.6           40.0       24.8         0  \n"
     ]
    }
   ],
   "source": [
    "print(df.head())"
   ]
  },
  {
   "cell_type": "code",
   "execution_count": 4,
   "id": "b371ef1f",
   "metadata": {
    "execution": {
     "iopub.execute_input": "2025-03-13T14:54:55.452321Z",
     "iopub.status.busy": "2025-03-13T14:54:55.451949Z",
     "iopub.status.idle": "2025-03-13T14:54:55.488892Z",
     "shell.execute_reply": "2025-03-13T14:54:55.487563Z"
    },
    "papermill": {
     "duration": 0.044966,
     "end_time": "2025-03-13T14:54:55.490790",
     "exception": false,
     "start_time": "2025-03-13T14:54:55.445824",
     "status": "completed"
    },
    "tags": []
   },
   "outputs": [
    {
     "name": "stdout",
     "output_type": "stream",
     "text": [
      "                id          day     pressure      maxtemp  temparature  \\\n",
      "count  2190.000000  2190.000000  2190.000000  2190.000000  2190.000000   \n",
      "mean   1094.500000   179.948402  1013.602146    26.365799    23.953059   \n",
      "std     632.342866   105.203592     5.655366     5.654330     5.222410   \n",
      "min       0.000000     1.000000   999.000000    10.400000     7.400000   \n",
      "25%     547.250000    89.000000  1008.600000    21.300000    19.300000   \n",
      "50%    1094.500000   178.500000  1013.000000    27.800000    25.500000   \n",
      "75%    1641.750000   270.000000  1017.775000    31.200000    28.400000   \n",
      "max    2189.000000   365.000000  1034.600000    36.000000    31.500000   \n",
      "\n",
      "           mintemp     dewpoint     humidity        cloud     sunshine  \\\n",
      "count  2190.000000  2190.000000  2190.000000  2190.000000  2190.000000   \n",
      "mean     22.170091    20.454566    82.036530    75.721918     3.744429   \n",
      "std       5.059120     5.288406     7.800654    18.026498     3.626327   \n",
      "min       4.000000    -0.300000    39.000000     2.000000     0.000000   \n",
      "25%      17.700000    16.800000    77.000000    69.000000     0.400000   \n",
      "50%      23.850000    22.150000    82.000000    83.000000     2.400000   \n",
      "75%      26.400000    25.000000    88.000000    88.000000     6.800000   \n",
      "max      29.800000    26.700000    98.000000   100.000000    12.100000   \n",
      "\n",
      "       winddirection    windspeed     rainfall  \n",
      "count    2190.000000  2190.000000  2190.000000  \n",
      "mean      104.863151    21.804703     0.753425  \n",
      "std        80.002416     9.898659     0.431116  \n",
      "min        10.000000     4.400000     0.000000  \n",
      "25%        40.000000    14.125000     1.000000  \n",
      "50%        70.000000    20.500000     1.000000  \n",
      "75%       200.000000    27.900000     1.000000  \n",
      "max       300.000000    59.500000     1.000000  \n"
     ]
    }
   ],
   "source": [
    "print(df.describe())"
   ]
  },
  {
   "cell_type": "markdown",
   "id": "380cc3e0",
   "metadata": {
    "papermill": {
     "duration": 0.005477,
     "end_time": "2025-03-13T14:54:55.501655",
     "exception": false,
     "start_time": "2025-03-13T14:54:55.496178",
     "status": "completed"
    },
    "tags": []
   },
   "source": [
    "# Feature selection/modification"
   ]
  },
  {
   "cell_type": "code",
   "execution_count": 5,
   "id": "459c18a2",
   "metadata": {
    "execution": {
     "iopub.execute_input": "2025-03-13T14:54:55.515268Z",
     "iopub.status.busy": "2025-03-13T14:54:55.514928Z",
     "iopub.status.idle": "2025-03-13T14:54:55.995018Z",
     "shell.execute_reply": "2025-03-13T14:54:55.993920Z"
    },
    "papermill": {
     "duration": 0.490387,
     "end_time": "2025-03-13T14:54:55.998408",
     "exception": false,
     "start_time": "2025-03-13T14:54:55.508021",
     "status": "completed"
    },
    "tags": []
   },
   "outputs": [
    {
     "data": {
      "image/png": "[encoded data removed]",
      "text/plain": [
       "<Figure size 640x480 with 2 Axes>"
      ]
     },
     "metadata": {},
     "output_type": "display_data"
    },
    {
     "name": "stdout",
     "output_type": "stream",
     "text": [
      "rainfall\n",
      "1    1650\n",
      "0     540\n",
      "Name: count, dtype: int64\n"
     ]
    },
    {
     "data": {
      "text/plain": [
       "<Figure size 640x480 with 0 Axes>"
      ]
     },
     "metadata": {},
     "output_type": "display_data"
    }
   ],
   "source": [
    "corr = X.corr()\n",
    "sns.heatmap(corr)\n",
    "plt.show()\n",
    "plt.clf()\n",
    "\n",
    "print(y.value_counts())"
   ]
  },
  {
   "cell_type": "code",
   "execution_count": 6,
   "id": "88eee91f",
   "metadata": {
    "execution": {
     "iopub.execute_input": "2025-03-13T14:54:56.027022Z",
     "iopub.status.busy": "2025-03-13T14:54:56.023436Z",
     "iopub.status.idle": "2025-03-13T14:54:56.046436Z",
     "shell.execute_reply": "2025-03-13T14:54:56.043527Z"
    },
    "papermill": {
     "duration": 0.038708,
     "end_time": "2025-03-13T14:54:56.048699",
     "exception": false,
     "start_time": "2025-03-13T14:54:56.009991",
     "status": "completed"
    },
    "tags": []
   },
   "outputs": [
    {
     "name": "stdout",
     "output_type": "stream",
     "text": [
      "pressure and maxtemp have corr= 0.8004990246459617\n",
      "pressure and temparature have corr= 0.8165308522258306\n",
      "pressure and mintemp have corr= 0.8144533378715528\n",
      "pressure and dewpoint have corr= 0.8170079548796162\n",
      "maxtemp and temparature have corr= 0.9829317560786646\n",
      "maxtemp and mintemp have corr= 0.9655287301769214\n",
      "maxtemp and dewpoint have corr= 0.9067025850131254\n",
      "temparature and mintemp have corr= 0.9871499535596853\n",
      "temparature and dewpoint have corr= 0.9336174104477594\n",
      "mintemp and dewpoint have corr= 0.9413416333402178\n",
      "cloud and sunshine have corr= 0.8051284328564674\n"
     ]
    }
   ],
   "source": [
    "# check which feature pairs have |rho|>0.75\n",
    "def check_corr(corr):\n",
    "    cols = list(corr.columns)\n",
    "    vals = corr.values\n",
    "    for i in range(len(cols)):\n",
    "        for j in range(i+1,len(cols)):\n",
    "            if abs(vals[i,j])>0.7:\n",
    "                print(cols[i],\"and\",cols[j],\"have corr=\",abs(vals[i,j]))\n",
    "check_corr(corr)"
   ]
  },
  {
   "cell_type": "code",
   "execution_count": 7,
   "id": "df2017b2",
   "metadata": {
    "execution": {
     "iopub.execute_input": "2025-03-13T14:54:56.066243Z",
     "iopub.status.busy": "2025-03-13T14:54:56.065190Z",
     "iopub.status.idle": "2025-03-13T14:54:57.247774Z",
     "shell.execute_reply": "2025-03-13T14:54:57.246561Z"
    },
    "papermill": {
     "duration": 1.194479,
     "end_time": "2025-03-13T14:54:57.249943",
     "exception": false,
     "start_time": "2025-03-13T14:54:56.055464",
     "status": "completed"
    },
    "tags": []
   },
   "outputs": [
    {
     "data": {
      "image/png": "[encoded data removed]",
      "text/plain": [
       "<Figure size 640x480 with 1 Axes>"
      ]
     },
     "metadata": {},
     "output_type": "display_data"
    },
    {
     "name": "stdout",
     "output_type": "stream",
     "text": [
      "              PC1         PC2        PC3        PC4\n",
      "0    -1098.787442  152.606424 -38.131628  -9.865562\n",
      "1    -1097.759638  152.383098 -49.167653 -15.856158\n",
      "2    -1096.741630  149.864662 -28.234834  31.746543\n",
      "3    -1095.707688  149.926045 -39.283909 -21.379240\n",
      "4    -1094.662956  149.286507 -57.931129  39.799119\n",
      "...           ...         ...        ...        ...\n",
      "2185  1094.891666 -148.612713 -72.851471 -15.621162\n",
      "2186  1095.916874 -149.965897 -63.923392 -16.671495\n",
      "2187  1096.950513 -150.559464 -73.699072  -3.582830\n",
      "2188  1097.966764 -151.296993 -74.390344 -19.534576\n",
      "2189  1098.989507 -153.997979 -44.129814 -17.901795\n",
      "\n",
      "[2190 rows x 4 columns]\n",
      "99.86481235526978\n"
     ]
    },
    {
     "data": {
      "image/png": "[encoded data removed]",
      "text/plain": [
       "<Figure size 640x480 with 2 Axes>"
      ]
     },
     "metadata": {},
     "output_type": "display_data"
    },
    {
     "data": {
      "text/plain": [
       "<Figure size 640x480 with 0 Axes>"
      ]
     },
     "metadata": {},
     "output_type": "display_data"
    }
   ],
   "source": [
    "# there is redundant info in temp, maxtemp, min temp, humidity, and dew point\n",
    "# We don't care so much about interprability, we just want to predict if it rains\n",
    "# can use Principal Components Analysis\n",
    "from sklearn.decomposition import PCA\n",
    "\n",
    "pca = PCA(n_components=4)\n",
    "X = pd.DataFrame(pca.fit_transform(X))\n",
    "X_final = pd.DataFrame(pca.transform(X_final))\n",
    "updated_df = X.copy()\n",
    "updated_df.columns = [\"PC\"+str(i+1) for i in range(len(updated_df.columns))]\n",
    "X_final.columns = [\"PC\"+str(i+1) for i in range(len(updated_df.columns))]\n",
    "X.columns = [\"PC\"+str(i+1) for i in range(len(updated_df.columns))]\n",
    "comps = pca.components_\n",
    "var_ratio = pca.explained_variance_ratio_*100\n",
    "cum_sum_var = np.cumsum(var_ratio)\n",
    "vals = [i+1 for i in range(len(var_ratio))]\n",
    "plt.plot(vals,cum_sum_var)\n",
    "plt.show()\n",
    "plt.clf()\n",
    "\n",
    "# need at most 3 principal components, describes 99.86% of variance\n",
    "print(updated_df)\n",
    "print(cum_sum_var[2])\n",
    "\n",
    "new_corr = updated_df.corr()\n",
    "sns.heatmap(new_corr)\n",
    "plt.show()\n",
    "plt.clf()"
   ]
  },
  {
   "cell_type": "code",
   "execution_count": 8,
   "id": "c3f89db6",
   "metadata": {
    "execution": {
     "iopub.execute_input": "2025-03-13T14:54:57.266495Z",
     "iopub.status.busy": "2025-03-13T14:54:57.266112Z",
     "iopub.status.idle": "2025-03-13T14:54:57.492911Z",
     "shell.execute_reply": "2025-03-13T14:54:57.491874Z"
    },
    "papermill": {
     "duration": 0.236929,
     "end_time": "2025-03-13T14:54:57.494706",
     "exception": false,
     "start_time": "2025-03-13T14:54:57.257777",
     "status": "completed"
    },
    "tags": []
   },
   "outputs": [
    {
     "name": "stdout",
     "output_type": "stream",
     "text": [
      "[1 0]\n",
      "          rainfall\n",
      "PC1       0.033649\n",
      "PC2       0.007456\n",
      "PC3      -0.011384\n",
      "PC4      -0.648916\n",
      "rainfall  1.000000\n"
     ]
    },
    {
     "data": {
      "image/png": "[encoded data removed]",
      "text/plain": [
       "<Figure size 640x480 with 2 Axes>"
      ]
     },
     "metadata": {},
     "output_type": "display_data"
    },
    {
     "data": {
      "text/plain": [
       "<Figure size 640x480 with 0 Axes>"
      ]
     },
     "metadata": {},
     "output_type": "display_data"
    }
   ],
   "source": [
    "# which features are most correlated with the outcome variable?\n",
    "# note pearson correlation could be neglecting nonlinear effects\n",
    "updated_df['rainfall'] = y\n",
    "print(updated_df['rainfall'].unique())\n",
    "corr_pred = updated_df.corr()\n",
    "corr_pred = corr_pred[['rainfall']]\n",
    "print(corr_pred)\n",
    "sns.heatmap(corr_pred)\n",
    "plt.show()\n",
    "plt.clf()"
   ]
  },
  {
   "cell_type": "code",
   "execution_count": 9,
   "id": "501fd6e6",
   "metadata": {
    "execution": {
     "iopub.execute_input": "2025-03-13T14:54:57.512283Z",
     "iopub.status.busy": "2025-03-13T14:54:57.511939Z",
     "iopub.status.idle": "2025-03-13T14:54:57.515768Z",
     "shell.execute_reply": "2025-03-13T14:54:57.514796Z"
    },
    "papermill": {
     "duration": 0.014583,
     "end_time": "2025-03-13T14:54:57.517547",
     "exception": false,
     "start_time": "2025-03-13T14:54:57.502964",
     "status": "completed"
    },
    "tags": []
   },
   "outputs": [],
   "source": [
    "# use pairplot to get overview of relationships between vars\n",
    "#sns.pairplot(updated_df)\n",
    "#plt.show()"
   ]
  },
  {
   "cell_type": "code",
   "execution_count": 10,
   "id": "3e8b2144",
   "metadata": {
    "execution": {
     "iopub.execute_input": "2025-03-13T14:54:57.535523Z",
     "iopub.status.busy": "2025-03-13T14:54:57.535059Z",
     "iopub.status.idle": "2025-03-13T14:54:58.258669Z",
     "shell.execute_reply": "2025-03-13T14:54:58.257548Z"
    },
    "papermill": {
     "duration": 0.734321,
     "end_time": "2025-03-13T14:54:58.260513",
     "exception": false,
     "start_time": "2025-03-13T14:54:57.526192",
     "status": "completed"
    },
    "tags": []
   },
   "outputs": [
    {
     "data": {
      "image/png": "[encoded data removed]",
      "text/plain": [
       "<Figure size 640x480 with 1 Axes>"
      ]
     },
     "metadata": {},
     "output_type": "display_data"
    },
    {
     "data": {
      "image/png": "[encoded data removed]",
      "text/plain": [
       "<Figure size 640x480 with 1 Axes>"
      ]
     },
     "metadata": {},
     "output_type": "display_data"
    },
    {
     "data": {
      "image/png": "[encoded data removed]",
      "text/plain": [
       "<Figure size 640x480 with 1 Axes>"
      ]
     },
     "metadata": {},
     "output_type": "display_data"
    },
    {
     "data": {
      "image/png": "[encoded data removed]",
      "text/plain": [
       "<Figure size 640x480 with 1 Axes>"
      ]
     },
     "metadata": {},
     "output_type": "display_data"
    },
    {
     "data": {
      "image/png": "[encoded data removed]",
      "text/plain": [
       "<Figure size 640x480 with 1 Axes>"
      ]
     },
     "metadata": {},
     "output_type": "display_data"
    },
    {
     "data": {
      "text/plain": [
       "<Figure size 640x480 with 0 Axes>"
      ]
     },
     "metadata": {},
     "output_type": "display_data"
    }
   ],
   "source": [
    "params = list(updated_df.columns)\n",
    "for param in params:\n",
    "    sns.boxplot(x=updated_df['rainfall'],y=updated_df[param])\n",
    "    plt.ylabel(param)\n",
    "    plt.xlabel(\"Rainfall\")\n",
    "    plt.show()\n",
    "    plt.clf()\n",
    "    "
   ]
  },
  {
   "cell_type": "markdown",
   "id": "cde6d252",
   "metadata": {
    "papermill": {
     "duration": 0.009389,
     "end_time": "2025-03-13T14:54:58.279896",
     "exception": false,
     "start_time": "2025-03-13T14:54:58.270507",
     "status": "completed"
    },
    "tags": []
   },
   "source": [
    "# Split into test/train samples"
   ]
  },
  {
   "cell_type": "code",
   "execution_count": 11,
   "id": "40517c33",
   "metadata": {
    "execution": {
     "iopub.execute_input": "2025-03-13T14:54:58.300518Z",
     "iopub.status.busy": "2025-03-13T14:54:58.300128Z",
     "iopub.status.idle": "2025-03-13T14:54:58.308309Z",
     "shell.execute_reply": "2025-03-13T14:54:58.307162Z"
    },
    "papermill": {
     "duration": 0.020978,
     "end_time": "2025-03-13T14:54:58.310187",
     "exception": false,
     "start_time": "2025-03-13T14:54:58.289209",
     "status": "completed"
    },
    "tags": []
   },
   "outputs": [],
   "source": [
    "from sklearn.model_selection import train_test_split\n",
    "from sklearn.metrics import f1_score\n",
    "X = updated_df.drop(columns=['rainfall'])\n",
    "y = updated_df['rainfall']\n",
    "X_train, X_test, y_train, y_test = train_test_split(X,y,test_size=0.2)"
   ]
  },
  {
   "cell_type": "markdown",
   "id": "bc7f565f",
   "metadata": {
    "papermill": {
     "duration": 0.010271,
     "end_time": "2025-03-13T14:54:58.332137",
     "exception": false,
     "start_time": "2025-03-13T14:54:58.321866",
     "status": "completed"
    },
    "tags": []
   },
   "source": [
    "# Model Selection\n",
    "Could use KNeighborsClassifier, DecisionTreeClassifier, XGBClassifier, LogisticRegression, or Neural Network"
   ]
  },
  {
   "cell_type": "code",
   "execution_count": 12,
   "id": "e373bec7",
   "metadata": {
    "execution": {
     "iopub.execute_input": "2025-03-13T14:54:58.354206Z",
     "iopub.status.busy": "2025-03-13T14:54:58.353831Z",
     "iopub.status.idle": "2025-03-13T14:54:58.795628Z",
     "shell.execute_reply": "2025-03-13T14:54:58.794530Z"
    },
    "papermill": {
     "duration": 0.455081,
     "end_time": "2025-03-13T14:54:58.797562",
     "exception": false,
     "start_time": "2025-03-13T14:54:58.342481",
     "status": "completed"
    },
    "tags": []
   },
   "outputs": [],
   "source": [
    "# can do decision tree with no preprocessing\n",
    "from sklearn.tree import DecisionTreeClassifier\n",
    "import xgboost as xgb\n",
    "# need scaled features for knn\n",
    "from sklearn.neighbors import KNeighborsClassifier\n",
    "from sklearn.model_selection import GridSearchCV"
   ]
  },
  {
   "cell_type": "code",
   "execution_count": 13,
   "id": "491cf762",
   "metadata": {
    "execution": {
     "iopub.execute_input": "2025-03-13T14:54:58.818266Z",
     "iopub.status.busy": "2025-03-13T14:54:58.817935Z",
     "iopub.status.idle": "2025-03-13T14:54:59.448256Z",
     "shell.execute_reply": "2025-03-13T14:54:59.447188Z"
    },
    "papermill": {
     "duration": 0.643014,
     "end_time": "2025-03-13T14:54:59.450105",
     "exception": false,
     "start_time": "2025-03-13T14:54:58.807091",
     "status": "completed"
    },
    "tags": []
   },
   "outputs": [
    {
     "name": "stdout",
     "output_type": "stream",
     "text": [
      "{'max_depth': 1}\n"
     ]
    }
   ],
   "source": [
    "depths = [i for i in range(1,10)]\n",
    "# optimize depth for regular decision tree\n",
    "#tree_test_acc = optimize_hyperparam(\"\",depths,X,y)\n",
    "\n",
    "params = {\"max_depth\":depths}\n",
    "\n",
    "clf = GridSearchCV(DecisionTreeClassifier(class_weight=\"balanced\"),params,return_train_score=True,cv=5,scoring=\"f1\")\n",
    "clf.fit(X_train,y_train)\n",
    "tree_train_score = clf.best_score_\n",
    "tree_test_score = clf.score(X_test,y_test)\n",
    "print(clf.best_params_)\n",
    "tree_predictions = pd.DataFrame(clf.predict(X_final))"
   ]
  },
  {
   "cell_type": "code",
   "execution_count": 14,
   "id": "28021425",
   "metadata": {
    "execution": {
     "iopub.execute_input": "2025-03-13T14:54:59.471140Z",
     "iopub.status.busy": "2025-03-13T14:54:59.470778Z",
     "iopub.status.idle": "2025-03-13T14:55:10.089339Z",
     "shell.execute_reply": "2025-03-13T14:55:10.088521Z"
    },
    "papermill": {
     "duration": 10.63121,
     "end_time": "2025-03-13T14:55:10.091036",
     "exception": false,
     "start_time": "2025-03-13T14:54:59.459826",
     "status": "completed"
    },
    "tags": []
   },
   "outputs": [
    {
     "name": "stdout",
     "output_type": "stream",
     "text": [
      "{'max_depth': 1}\n"
     ]
    }
   ],
   "source": [
    "depths = [i for i in range(1,20)]\n",
    "params = {\"max_depth\":depths}\n",
    "clf_xgb = GridSearchCV(xgb.XGBClassifier(),params,scoring='f1')\n",
    "clf_xgb.fit(X_train,y_train)\n",
    "\n",
    "xgb_train_score = clf_xgb.best_score_\n",
    "xgb_test_score = clf_xgb.score(X_test,y_test)\n",
    "\n",
    "xgb_predictions = clf_xgb.predict(X_final)\n",
    "\n",
    "print(clf_xgb.best_params_)\n",
    "#best_xgb.get_booster().dump_model(\"xgb_model.txt\",with_stats=True)\n",
    "#with open(\"xgb_model.txt\",\"r\") as f:\n",
    "    #print(f.read())"
   ]
  },
  {
   "cell_type": "code",
   "execution_count": 15,
   "id": "2ce74e2e",
   "metadata": {
    "execution": {
     "iopub.execute_input": "2025-03-13T14:55:10.111618Z",
     "iopub.status.busy": "2025-03-13T14:55:10.111036Z",
     "iopub.status.idle": "2025-03-13T14:55:13.943529Z",
     "shell.execute_reply": "2025-03-13T14:55:13.942515Z"
    },
    "papermill": {
     "duration": 3.84471,
     "end_time": "2025-03-13T14:55:13.945491",
     "exception": false,
     "start_time": "2025-03-13T14:55:10.100781",
     "status": "completed"
    },
    "tags": []
   },
   "outputs": [],
   "source": [
    "# next, try knearest neighbors\n",
    "#Need to standardize data first\n",
    "from sklearn.preprocessing import StandardScaler\n",
    "\n",
    "scaler = StandardScaler()\n",
    "X_trans_train = scaler.fit_transform(X_train)\n",
    "X_trans_test = scaler.transform(X_test)\n",
    "X_trans_final = scaler.transform(X_final)\n",
    "\n",
    "neighbors = [i for i in range(1,25)]\n",
    "\n",
    "# now try with gridsearchcv\n",
    "params = {\"weights\":[\"uniform\",\"distance\"],\"n_neighbors\":neighbors}\n",
    "clf = GridSearchCV(KNeighborsClassifier(),params,cv=5,scoring=\"f1\")\n",
    "\n",
    "clf.fit(X_trans_train,y_train)\n",
    "knn_train_score = clf.best_score_\n",
    "knn_test_score = clf.score(X_trans_test,y_test)\n",
    "knn_predictions = clf.predict(X_trans_final)"
   ]
  },
  {
   "cell_type": "code",
   "execution_count": 16,
   "id": "1666807f",
   "metadata": {
    "execution": {
     "iopub.execute_input": "2025-03-13T14:55:13.965778Z",
     "iopub.status.busy": "2025-03-13T14:55:13.965341Z",
     "iopub.status.idle": "2025-03-13T14:55:17.660104Z",
     "shell.execute_reply": "2025-03-13T14:55:17.659252Z"
    },
    "papermill": {
     "duration": 3.706955,
     "end_time": "2025-03-13T14:55:17.662028",
     "exception": false,
     "start_time": "2025-03-13T14:55:13.955073",
     "status": "completed"
    },
    "tags": []
   },
   "outputs": [],
   "source": [
    "# finally, try LogisticRegression with various thresholds\n",
    "from sklearn.linear_model import LogisticRegression\n",
    "Cvals = np.logspace(-3,2)\n",
    "params = {\"penalty\":[\"l1\",\"l2\"],\"C\":Cvals}\n",
    "\n",
    "model = LogisticRegression(solver='liblinear',max_iter=1000)\n",
    "clf = GridSearchCV(model,params,cv=5,scoring='f1')\n",
    "clf.fit(X_train,y_train)\n",
    "lr_train_score = clf.best_score_\n",
    "lr_test_score = clf.score(X_test,y_test)\n",
    "\n",
    "lr_predictions = clf.predict(X_final)\n"
   ]
  },
  {
   "cell_type": "code",
   "execution_count": 17,
   "id": "73ceb0dd",
   "metadata": {
    "execution": {
     "iopub.execute_input": "2025-03-13T14:55:17.682375Z",
     "iopub.status.busy": "2025-03-13T14:55:17.682042Z",
     "iopub.status.idle": "2025-03-13T14:55:17.690057Z",
     "shell.execute_reply": "2025-03-13T14:55:17.689026Z"
    },
    "papermill": {
     "duration": 0.020146,
     "end_time": "2025-03-13T14:55:17.691892",
     "exception": false,
     "start_time": "2025-03-13T14:55:17.671746",
     "status": "completed"
    },
    "tags": []
   },
   "outputs": [
    {
     "name": "stdout",
     "output_type": "stream",
     "text": [
      "Train f1 score for tree was  0.8837227615710054\n",
      "Train f1 score for knn was  0.9089632925248876\n",
      "Train f1 score for xgb was  0.910243387389557\n",
      "Train f1 score for lr was 0.9081739627300218\n",
      "Test f1 score for tree was 0.8919330289193305\n",
      "Test f1 score for knn was 0.9062049062049062\n",
      "Test f1 score for xgb was 0.9101449275362319\n",
      "Test f1 score for logistic was 0.9051724137931034\n"
     ]
    }
   ],
   "source": [
    "# make decision on which predictions to use\n",
    "print(\"Train f1 score for tree was \",tree_train_score)\n",
    "print(\"Train f1 score for knn was \",knn_train_score)\n",
    "print(\"Train f1 score for xgb was \",xgb_train_score)\n",
    "print(\"Train f1 score for lr was\",lr_train_score)\n",
    "print(\"Test f1 score for tree was\",tree_test_score)\n",
    "print(\"Test f1 score for knn was\",knn_test_score)\n",
    "print(\"Test f1 score for xgb was\",xgb_test_score)\n",
    "print(\"Test f1 score for logistic was\",lr_test_score)\n"
   ]
  },
  {
   "cell_type": "code",
   "execution_count": 18,
   "id": "cc8c20fa",
   "metadata": {
    "execution": {
     "iopub.execute_input": "2025-03-13T14:55:17.717074Z",
     "iopub.status.busy": "2025-03-13T14:55:17.716515Z",
     "iopub.status.idle": "2025-03-13T14:55:17.722133Z",
     "shell.execute_reply": "2025-03-13T14:55:17.721038Z"
    },
    "papermill": {
     "duration": 0.022092,
     "end_time": "2025-03-13T14:55:17.724026",
     "exception": false,
     "start_time": "2025-03-13T14:55:17.701934",
     "status": "completed"
    },
    "tags": []
   },
   "outputs": [],
   "source": [
    "def package_final(pred):\n",
    "    final_sub = X_final_id.copy()\n",
    "    final_sub.insert(1,'rainfall',pred)\n",
    "    final_sub.set_index('id',inplace=True)\n",
    "    print(final_sub)\n",
    "    final_sub.to_csv(\"submission.csv\")"
   ]
  },
  {
   "cell_type": "code",
   "execution_count": 19,
   "id": "d5d4284c",
   "metadata": {
    "execution": {
     "iopub.execute_input": "2025-03-13T14:55:17.745686Z",
     "iopub.status.busy": "2025-03-13T14:55:17.745225Z",
     "iopub.status.idle": "2025-03-13T14:55:17.759000Z",
     "shell.execute_reply": "2025-03-13T14:55:17.757780Z"
    },
    "papermill": {
     "duration": 0.026299,
     "end_time": "2025-03-13T14:55:17.761035",
     "exception": false,
     "start_time": "2025-03-13T14:55:17.734736",
     "status": "completed"
    },
    "tags": []
   },
   "outputs": [
    {
     "name": "stdout",
     "output_type": "stream",
     "text": [
      "      rainfall\n",
      "id            \n",
      "2190         1\n",
      "2191         1\n",
      "2192         1\n",
      "2193         0\n",
      "2194         0\n",
      "...        ...\n",
      "2915         1\n",
      "2916         1\n",
      "2917         1\n",
      "2918         1\n",
      "2919         1\n",
      "\n",
      "[730 rows x 1 columns]\n"
     ]
    }
   ],
   "source": [
    "package_final(lr_predictions)"
   ]
  },
  {
   "cell_type": "code",
   "execution_count": null,
   "id": "2eeb4adf",
   "metadata": {
    "papermill": {
     "duration": 0.009253,
     "end_time": "2025-03-13T14:55:17.780814",
     "exception": false,
     "start_time": "2025-03-13T14:55:17.771561",
     "status": "completed"
    },
    "tags": []
   },
   "outputs": [],
   "source": []
  }
 ],
 "metadata": {
  "kaggle": {
   "accelerator": "none",
   "dataSources": [
    {
     "databundleVersionId": 11251744,
     "sourceId": 91714,
     "sourceType": "competition"
    }
   ],
   "dockerImageVersionId": 30918,
   "isGpuEnabled": false,
   "isInternetEnabled": true,
   "language": "python",
   "sourceType": "notebook"
  },
  "kernelspec": {
   "display_name": "Python 3",
   "language": "python",
   "name": "python3"
  },
  "language_info": {
   "codemirror_mode": {
    "name": "ipython",
    "version": 3
   },
   "file_extension": ".py",
   "mimetype": "text/x-python",
   "name": "python",
   "nbconvert_exporter": "python",
   "pygments_lexer": "ipython3",
   "version": "3.10.12"
  },
  "papermill": {
   "default_parameters": {},
   "duration": 29.11148,
   "end_time": "2025-03-13T14:55:18.613194",
   "environment_variables": {},
   "exception": null,
   "input_path": "__notebook__.ipynb",
   "output_path": "__notebook__.ipynb",
   "parameters": {},
   "start_time": "2025-03-13T14:54:49.501714",
   "version": "2.6.0"
  }
 },
 "nbformat": 4,
 "nbformat_minor": 5
}
